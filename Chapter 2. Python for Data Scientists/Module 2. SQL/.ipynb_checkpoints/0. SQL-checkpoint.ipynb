{
 "cells": [
  {
   "cell_type": "markdown",
   "metadata": {},
   "source": [
    "# SQL\n",
    "\n",
    "Learning Objectives:\n",
    "- 1\n",
    "- 2\n",
    "- 3\n",
    "\n",
    "Pre-requisites: \n",
    "- Download and install PostgresSQL (https://www.enterprisedb.com/downloads/postgres-postgresql-downloads). If you're on Linux and want our help to install, please let us know.\n",
    "- Download the Pagila databse: https://github.com/devrimgunduz/pagila\n",
    "\n",
    "Ensure that `<INSTALL_DIRECTORY>\\PostgreSQL\\12\\bin` is in your path!\n",
    "\n",
    "\n",
    "## What is SQL?\n",
    "**SQL** stands for Structured Query Language. It is essentially a language that we use to query databases. There are many different kinds of SQL databases out there: Postgres, MySQL, SQLite, MariaDB, etc. All these languages have slight variations in their implementations of SQL, but *most* of what you learn regarding one of these database softwares can be transferred across the others.\n",
    "\n",
    "We're going to be working with a database known as *Pagila*, which is a Postgres port of an open-source sample database known as *Sakila* (LINK THIS). Pagila is a database which models a DVD rental store. It features films, actors, film-actor relationships, and a central inventory table that connects films, stores, and rentals. \n",
    "\n",
    "Visually, databases are displayed through something known as an ERD (Entity Relationship Diagram):\n",
    "\n",
    "![](images/sakila_erd.png)\n",
    "Source: https://www.jooq.org/sakila\n",
    "\n",
    "Instantly, we notice boxes which have headings and variable names within the box. Each box indicates a *table* in the database. We also notice there are lines connecting two boxes together. These lines are known as *relationships*. We won't dive too much into the technical breakdown of relationships, but at this point in time it's important to notice that when two tables have a relationship with each other, there is a way to reference an *entry* in one table from the other. For example, we can reference a staff member from the Payment table. We'll formally introduce this later on.\n",
    "\n",
    "Databases have four main statements, following the CRUD (Create, Read, Update, Delete) paradigm. Statements can essentailly be thought of as functions we want to perform over the database. Within a given database, relevant statements could include:\n",
    "- **CREATE TABLE**: A statement which creates a new table in the database\n",
    "- **SELECT**: Allows "
   ]
  },
  {
   "cell_type": "code",
   "execution_count": null,
   "metadata": {},
   "outputs": [],
   "source": []
  },
  {
   "cell_type": "code",
   "execution_count": null,
   "metadata": {},
   "outputs": [],
   "source": []
  },
  {
   "cell_type": "code",
   "execution_count": null,
   "metadata": {},
   "outputs": [],
   "source": []
  },
  {
   "cell_type": "code",
   "execution_count": null,
   "metadata": {},
   "outputs": [],
   "source": []
  },
  {
   "cell_type": "code",
   "execution_count": null,
   "metadata": {},
   "outputs": [],
   "source": []
  },
  {
   "cell_type": "code",
   "execution_count": null,
   "metadata": {},
   "outputs": [],
   "source": []
  },
  {
   "cell_type": "code",
   "execution_count": null,
   "metadata": {},
   "outputs": [],
   "source": []
  },
  {
   "cell_type": "code",
   "execution_count": null,
   "metadata": {},
   "outputs": [],
   "source": []
  },
  {
   "cell_type": "code",
   "execution_count": null,
   "metadata": {},
   "outputs": [],
   "source": []
  },
  {
   "cell_type": "code",
   "execution_count": null,
   "metadata": {},
   "outputs": [],
   "source": []
  },
  {
   "cell_type": "code",
   "execution_count": null,
   "metadata": {},
   "outputs": [],
   "source": []
  }
 ],
 "metadata": {
  "kernelspec": {
   "display_name": "Python 3",
   "language": "python",
   "name": "python3"
  },
  "language_info": {
   "codemirror_mode": {
    "name": "ipython",
    "version": 3
   },
   "file_extension": ".py",
   "mimetype": "text/x-python",
   "name": "python",
   "nbconvert_exporter": "python",
   "pygments_lexer": "ipython3",
   "version": "3.7.6"
  }
 },
 "nbformat": 4,
 "nbformat_minor": 4
}
