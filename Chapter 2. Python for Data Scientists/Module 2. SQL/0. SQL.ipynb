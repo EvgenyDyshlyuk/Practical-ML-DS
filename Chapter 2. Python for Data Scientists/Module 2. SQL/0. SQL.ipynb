{
 "cells": [
  {
   "cell_type": "markdown",
   "metadata": {},
   "source": [
    "# SQL\n",
    "\n",
    "Learning Objectives:\n",
    "- 1\n",
    "- 2\n",
    "- 3\n",
    "\n",
    "Pre-requisites: \n",
    "- Download and install PostgresSQL (https://www.enterprisedb.com/downloads/postgres-postgresql-downloads). If you're on Linux and want our help to install, please let us know.\n",
    "- Download the Pagila databse: https://github.com/devrimgunduz/pagila\n",
    "\n",
    "Ensure that `<INSTALL_DIRECTORY>\\PostgreSQL\\12\\bin` is in your path!\n",
    "\n",
    "\n",
    "## What is SQL?\n",
    "**SQL** stands for Structured Query Language. It is essentially a language that we use to query databases. There are many different kinds of SQL databases out there: Postgres, MySQL, SQLite, MariaDB, etc. All these languages have slight variations in their implementations of SQL, but *most* of what you learn regarding one of these database softwares can be transferred across the others. SQL is a powerful tool which can help us answer questions that would otherwise be difficult to extract through more conventional means (e.g. spreadsheets). An example of a more complicated question could be \"What was the total revenue across from comedy films that were rented for 5 to 10 days\".\n",
    "\n",
    "We're going to be working with a database known as *Pagila*, which is a Postgres port of an open-source sample database known as *Sakila* (LINK THIS). Pagila is a database which models a DVD rental store. It features films, actors, film-actor relationships, and a central inventory table that connects films, stores, and rentals. \n",
    "\n",
    "Visually, databases are displayed through something known as an ERD (Entity Relationship Diagram):\n",
    "\n",
    "![](images/sakila_erd.png)\n",
    "Source: https://www.jooq.org/sakila\n",
    "\n",
    "Instantly, we notice boxes which have headings and variable names within the box. Each box indicates a *table* in the database - a table being some collection of related data (e.g. address). We also notice there are lines connecting two boxes together. These lines are known as *relationships*. We won't dive too much into the technical breakdown of relationships, but at this point in time it's important to notice that when two tables have a relationship with each other, there is a way to reference an *entry* in one table from the other. For example, we can reference a staff member from the Payment table. We'll formally introduce this later on.\n",
    "\n",
    "Databases have four main statements, following the CRUD (Create, Read, Update, Delete) paradigm. Statements can essentailly be thought of as functions we want to perform over the database. Within a given database, relevant statements could include:\n",
    "- **CREATE TABLE**: A statement which creates a new table in the database\n",
    "- **SELECT**: Allows you to read and *query* the database to extract records you want\n",
    "- **UPDATE**: Allows you to update records within a table\n",
    "- **DROP TABLE**: Gives you the power to remove a table from a database\n",
    "\n",
    "Through this chapter, we will expose you to all the above statements, however the majority emphasis will be placed on **SELECT**. This is because, as a data scientist, more often than not, you'll be reading/pulling data from tables to transform and work with.\n"
   ]
  },
  {
   "cell_type": "markdown",
   "metadata": {},
   "source": [
    "## The SELECT statement\n",
    "\n",
    "Let's expose ourself to our first SQL statement! Let's run the query and see what we get returned back to us!\n",
    "\n",
    "First, we'll connect to the Postgres shell:\n",
    "`psql -U <USERNAME> <DATABASE_NAME>`. The default username is `postgres` and we called our database `pagila`.\n",
    "\n",
    "Now we'll run the following query which returns all the information from the `payment` table: <br> `SELECT * FROM payment;` <br>\n",
    "This seemingly simple query has four components to it. Let's break them down:\n",
    "1. `SELECT` is our statement. This indicates to the database software that we want to select some **columns** from our database\n",
    "2. Our argument for `SELECT` are the **columns** we want to select. Can you guess what `*` stands for? If we wanted to only select a subset of columns from a given table, we would comma separate the column names (e.g. `payment_id, amount, payment_data`)\n",
    "3. `FROM` is a keyword, which precedes the **table** name we are going to select our data columns from. \n",
    "4. The last argument is the actual name of the table we want to select information from. In this case, `payment`.\n",
    "\n",
    "Note that all statements terminate with a semi-colon, and by convention, we use CAPITALS to indicate SQL keywords, and lowercase to indicate specific data.\n",
    "\n",
    "Try these two challenges:\n",
    "1. Return all the information on all the actors in the database\n",
    "2. Return the titles, year of film release, description and length of all films in the database"
   ]
  },
  {
   "cell_type": "code",
   "execution_count": null,
   "metadata": {},
   "outputs": [],
   "source": []
  },
  {
   "cell_type": "code",
   "execution_count": null,
   "metadata": {},
   "outputs": [],
   "source": []
  },
  {
   "cell_type": "code",
   "execution_count": null,
   "metadata": {},
   "outputs": [],
   "source": []
  },
  {
   "cell_type": "code",
   "execution_count": null,
   "metadata": {},
   "outputs": [],
   "source": []
  },
  {
   "cell_type": "code",
   "execution_count": null,
   "metadata": {},
   "outputs": [],
   "source": []
  },
  {
   "cell_type": "code",
   "execution_count": null,
   "metadata": {},
   "outputs": [],
   "source": []
  },
  {
   "cell_type": "code",
   "execution_count": null,
   "metadata": {},
   "outputs": [],
   "source": []
  },
  {
   "cell_type": "code",
   "execution_count": null,
   "metadata": {},
   "outputs": [],
   "source": []
  },
  {
   "cell_type": "code",
   "execution_count": null,
   "metadata": {},
   "outputs": [],
   "source": []
  },
  {
   "cell_type": "code",
   "execution_count": null,
   "metadata": {},
   "outputs": [],
   "source": []
  }
 ],
 "metadata": {
  "kernelspec": {
   "display_name": "Python 3",
   "language": "python",
   "name": "python3"
  },
  "language_info": {
   "codemirror_mode": {
    "name": "ipython",
    "version": 3
   },
   "file_extension": ".py",
   "mimetype": "text/x-python",
   "name": "python",
   "nbconvert_exporter": "python",
   "pygments_lexer": "ipython3",
   "version": "3.7.6"
  }
 },
 "nbformat": 4,
 "nbformat_minor": 4
}
