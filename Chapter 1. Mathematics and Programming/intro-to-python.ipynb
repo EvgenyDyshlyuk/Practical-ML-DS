{
 "cells": [
  {
   "cell_type": "markdown",
   "metadata": {},
   "source": [
    "Python Basics\n",
    "Data types (strings, lists and dictionaries)\n",
    "Functions\n",
    "Classes\n",
    "Libraries\n",
    "What is a library\n",
    "Can we use an external library?\n",
    "How to use an external library?\n"
   ]
  },
  {
   "cell_type": "markdown",
   "metadata": {},
   "source": [
    "# Introduction to Python\n",
    "\n",
    "## Why Python?\n",
    "Python is one of many high-level programming languages. According to the PYPL and TIOBE indexes, Python is consistently ranked as one of the most popular!"
   ]
  },
  {
   "cell_type": "code",
   "execution_count": 1,
   "metadata": {},
   "outputs": [
    {
     "data": {
      "text/html": [
       "<table><tr><td><img src='https://www.cleveroad.com/images/article-previews/3e136c21655beff45307ef1625c3dbcab29541cba8f83a538d08bdb133784eb7.png'></td><td><img src='https://www.cleveroad.com/images/article-previews/6af294a5e19e416faf22baf35c2aa7bbc3ce0859bdbcb9b48a7bbb19107b7c70.png'></td></tr></table>"
      ],
      "text/plain": [
       "<IPython.core.display.HTML object>"
      ]
     },
     "metadata": {},
     "output_type": "display_data"
    }
   ],
   "source": [
    "from IPython.display import HTML, display\n",
    "display(HTML(\"<table><tr><td><img src='https://www.cleveroad.com/images/article-previews/3e136c21655beff45307ef1625c3dbcab29541cba8f83a538d08bdb133784eb7.png'></td><td><img src='https://www.cleveroad.com/images/article-previews/6af294a5e19e416faf22baf35c2aa7bbc3ce0859bdbcb9b48a7bbb19107b7c70.png'></td></tr></table>\"))"
   ]
  },
  {
   "cell_type": "markdown",
   "metadata": {},
   "source": [
    "Python is widely used by tech giants such as Google, Facebook, Instagram, Spotify, Netflix, Reddit, Quota, Dropbox... the list goes on! In the beginning of Python, the founders of Google went as far as to make the decision of: __\"Python where we can, C++ where we must.\"__ \n",
    "\n",
    "So, what are the benefits using Python? Well, for starters, Python has a remarkably simple syntax relative to some other high-level programming languages. Below is an example of two snippets of code that achieve the same task: one in __Java (left)__, and the other in __Python (right)__.\n",
    "<img src=\"https://seeromega.com/wp-content/uploads/2019/07/syntex-java.png\" />\n",
    "While the difference in complexity may not seem large, if it is noticeable in small-scale tasks, it will have great impact in larger-scale programs!\n",
    "\n",
    "Python also has a remarkable community and resources, which allow you to get help from your peers, develop your programming skills and discover creative new ways to solve interesting problems! Python is open-source, which means you will have the help of some of the best developers out there.\n",
    "\n",
    "It is also a highly multi-purpose programming language. Given the frameworks and libraries built on Python, it can be used for a variety of purposes such as: __creating and hosting a website, data science and machine learning, running scripts to automate boring tasks,__ and many more!\n"
   ]
  },
  {
   "cell_type": "markdown",
   "metadata": {},
   "source": [
    "## Python: Building Blocks\n",
    "In Python, the interpreter executes code from the top of the script, meaning there is no need for a main function as in other languages such as Java or C++. Below are examples of print statements using the default function ___print()___, which prints the input values onto the screen or other standard output device."
   ]
  },
  {
   "cell_type": "code",
   "execution_count": 2,
   "metadata": {},
   "outputs": [
    {
     "name": "stdout",
     "output_type": "stream",
     "text": [
      "Hello world!\n",
      "Python is awesome!\n"
     ]
    }
   ],
   "source": [
    "#Any code following a hash symbol is known as a comment and will not read by the interpreter!\n",
    "\n",
    "print(\"Hello world!\")\n",
    "print(\"Python\",\"is\",\"awesome!\") "
   ]
  },
  {
   "cell_type": "markdown",
   "metadata": {},
   "source": [
    "Congratulations on running your first Python program!\n",
    "\n",
    "### Value Types and Variables\n",
    "A __value__ in Python is something which the program manipulates. The most commonly used value types are __int__ for integers, __string__ for words and characters (marked by either \"\" or ''), __float__ for floating point formatted decimals, and __bool__ for boolean values that can either be 'True' or 'False'. Examples are:"
   ]
  },
  {
   "cell_type": "code",
   "execution_count": 3,
   "metadata": {},
   "outputs": [
    {
     "name": "stdout",
     "output_type": "stream",
     "text": [
      "<class 'int'>\n",
      "<class 'float'>\n",
      "<class 'str'> <class 'str'>\n",
      "<class 'bool'>\n",
      "<class 'str'>\n",
      "<class 'str'>\n"
     ]
    }
   ],
   "source": [
    "#type() tells us the type of value we input into it\n",
    "print(type(1))\n",
    "print(type(1.1))\n",
    "print(type(\"Hello World\"), type('Hello World'))\n",
    "print(type(True))\n",
    "\n",
    "#It is important to note that any number can also be represented as a string\n",
    "print(type(\"1\"))\n",
    "print(type(\"1.1\"))"
   ]
  },
  {
   "cell_type": "markdown",
   "metadata": {},
   "source": [
    "__Variables__ are names chosen to refer to a value. We can give a given variable a value through an __assignment statemenet__ with the \"=\" operator. __Statements__ are instructions that the Python interpreter can execute. The type of a variable is the type of the value it stores."
   ]
  },
  {
   "cell_type": "code",
   "execution_count": 4,
   "metadata": {},
   "outputs": [
    {
     "name": "stdout",
     "output_type": "stream",
     "text": [
      "3.2 <class 'float'>\n",
      "7 <class 'int'>\n",
      "Hello World <class 'str'>\n",
      "\n",
      "Don't be afraid of change! <class 'str'>\n"
     ]
    }
   ],
   "source": [
    "#Here are some assignment statements\n",
    "a = 3.2\n",
    "lucky_number = 7\n",
    "text = \"Hello World\"\n",
    "\n",
    "print(a,type(a))\n",
    "print(lucky_number, type(lucky_number))\n",
    "print(text,type(text))\n",
    "\n",
    "print() #prints out an empty line\n",
    "\n",
    "#Variables can be reassigned different values\n",
    "a = \"Don't be afraid of change!\"\n",
    "print(a,type(a))\n"
   ]
  },
  {
   "cell_type": "markdown",
   "metadata": {},
   "source": [
    "__Expressions__ are values, variables, or combinations of different variables and values. Values can be combined with different __operators__. As in mathematics, operations within parentheses are carried out first, then multiplication and division, then addition and subtraction. The result of an expression is also a value. \n",
    "\n",
    "Below are some examples of simple operators used in Python."
   ]
  },
  {
   "cell_type": "code",
   "execution_count": 5,
   "metadata": {},
   "outputs": [
    {
     "name": "stdout",
     "output_type": "stream",
     "text": [
      "2\n",
      "1\n",
      "2.0\n",
      "4\n",
      "9\n",
      "0\n",
      "Ah! Ah! Ah! Ah! \n",
      "Staying Alive!\n",
      "\n",
      "5\n",
      "6\n"
     ]
    }
   ],
   "source": [
    "a = 1\n",
    "b = 2\n",
    "c = 3\n",
    "\n",
    "print(a + a) #additions\n",
    "print(c - a - 1) #subtraction\n",
    "print(4 / b) #division (division always returns a float type value)\n",
    "print(b * b) #multiplication\n",
    "print(3 ** 2) #exponentiation\n",
    "print(6 % 3) #remainder\n",
    "print(\"Ah! \"*4) #performs repetition on the string\n",
    "print(\"Staying\" + \" \" + \"Alive!\") #concatenation(joining) strings\n",
    "\n",
    "print()\n",
    "\n",
    "#Always double-check the priority of your operations!\n",
    "print(1+2*2)\n",
    "print((1+2)*2)"
   ]
  },
  {
   "cell_type": "markdown",
   "metadata": {},
   "source": [
    "### Exercise 1:\n",
    "Complete the following tasks:\n",
    "1. Print your name 20 times.\n",
    "2. Compute the volume of a cube with a length of 0.5.\n",
    "3. Concatenate different strings so that the output is given by: \"{your name} is a Python master!\""
   ]
  },
  {
   "cell_type": "code",
   "execution_count": 6,
   "metadata": {},
   "outputs": [
    {
     "name": "stdout",
     "output_type": "stream",
     "text": [
      "Joao Pereira Joao Pereira Joao Pereira Joao Pereira Joao Pereira Joao Pereira Joao Pereira Joao Pereira Joao Pereira Joao Pereira Joao Pereira Joao Pereira Joao Pereira Joao Pereira Joao Pereira Joao Pereira Joao Pereira Joao Pereira Joao Pereira Joao Pereira \n",
      "Volume of the cube is:  0.125\n",
      "Joao Pereira is a Python master!\n"
     ]
    }
   ],
   "source": [
    "#Task 1\n",
    "print(\"Joao Pereira \"*20)\n",
    "\n",
    "#Task 2\n",
    "r = 0.5\n",
    "V = 0.5 ** 3\n",
    "print(\"Volume of the cube is: \",V)\n",
    "\n",
    "#Task 3\n",
    "my_name = \"Joao Pereira\"\n",
    "extra = \"is a Python master!\"\n",
    "print(my_name + \" \" + extra)\n"
   ]
  },
  {
   "cell_type": "markdown",
   "metadata": {},
   "source": [
    "## Functions\n",
    "We will first look at __functions__ which are a named sequence of statements that performs a given operation when the function is __called__. We have already seen functions in action, such as the _type()_ function. Its __name__ is type and it takes in a value as an __argument__ and outputs a __return value__, which in this case is the value type of your input. _type()_ is one of many in-built functions in Python. Other examples of in-built functions are __type-casting__ functions, which convert the input value into the desired type if possible, as shown below:"
   ]
  },
  {
   "cell_type": "code",
   "execution_count": 7,
   "metadata": {},
   "outputs": [
    {
     "name": "stdout",
     "output_type": "stream",
     "text": [
      "3 <class 'int'>\n",
      "3 <class 'str'>\n"
     ]
    }
   ],
   "source": [
    "#Type Casting examples\n",
    "a = int(3.2) #converts to integer, which in this case rounds the input float type value\n",
    "b = str(3) #converts to a string\n",
    "\n",
    "print(a, type(a))\n",
    "print(b, type(b))"
   ]
  },
  {
   "cell_type": "markdown",
   "metadata": {},
   "source": [
    "Python has other in-built functions stored in different __modules__, which are files that contain a collection of related functions grouped together. To use functions from different in-built Python modules, we use the __import__ command followed by the module name. The __math__ module is imported below as an example. To use a function from an imported module, we use __dot notation__:\n",
    "\n",
    "\"module_name\" + \".\" + \"function_name\"\n"
   ]
  },
  {
   "cell_type": "code",
   "execution_count": 8,
   "metadata": {},
   "outputs": [
    {
     "name": "stdout",
     "output_type": "stream",
     "text": [
      "0.1411200080598672 6.0\n"
     ]
    }
   ],
   "source": [
    "import math\n",
    "\n",
    "y = math.sin(3)\n",
    "x = math.sqrt(36)\n",
    "print(y,x)"
   ]
  },
  {
   "cell_type": "markdown",
   "metadata": {},
   "source": [
    "__We can also create our own Python functions!__ This is useful when we want to keep our code organized or when we need to carry out the same or similar operations multiple times. To create a function, we use a __function definition__, which is shown below for a simple example of a function that adds three input values."
   ]
  },
  {
   "cell_type": "code",
   "execution_count": 9,
   "metadata": {},
   "outputs": [
    {
     "name": "stdout",
     "output_type": "stream",
     "text": [
      "6\n"
     ]
    }
   ],
   "source": [
    "#Example function definition\n",
    "def adder(a,b,c):\n",
    "    addition = a + b + c\n",
    "    return addition\n",
    "\n",
    "output = adder(1,2,3)\n",
    "print(output)"
   ]
  },
  {
   "cell_type": "markdown",
   "metadata": {},
   "source": [
    "We always start a function definition with the keyword _def_. In this case, our __function name__ is _adder_, and it takes in three __arguments__, which the function stores within the __parameters__: a, b and c. Given these three arguments, it adds them and 'returns' their sum with a __return statement__. The value in the return statement becomes the value of the function when it is called, as seen in the example above being stored into the variable 'output'. __Functions do not require a return statement, but do not have a value when called__. The function terminates as soon as it reaches a return statement."
   ]
  },
  {
   "cell_type": "code",
   "execution_count": 10,
   "metadata": {},
   "outputs": [
    {
     "name": "stdout",
     "output_type": "stream",
     "text": [
      "None\n"
     ]
    }
   ],
   "source": [
    "#example of Function without return statement\n",
    "def adder_no_return(a,b,c):\n",
    "    addition = a+b+c\n",
    "\n",
    "output = adder_no_return(1,2,3)\n",
    "print(output)"
   ]
  },
  {
   "cell_type": "markdown",
   "metadata": {},
   "source": [
    "As shown in both examples, the first line of the function definition __must end with a ':'__. Furthermore, we can have any number of statements in a function, __but they must be indented__.\n",
    "\n",
    "Another crucial concept with functions is the value of variables before the function in the script __cannot be modified within the function__. The function cannot access variables declared outside it, and will throw an error in any attempt to do so. Likewise, __you cannot access any variables defined inside a function outside it, unless the variable is included in your return statement__.\n",
    "\n",
    "These concepts are demonstrated in the poor function handling below:"
   ]
  },
  {
   "cell_type": "code",
   "execution_count": 11,
   "metadata": {},
   "outputs": [
    {
     "ename": "NameError",
     "evalue": "name 'p' is not defined",
     "output_type": "error",
     "traceback": [
      "\u001b[0;31m---------------------------------------------------------------------------\u001b[0m",
      "\u001b[0;31mNameError\u001b[0m                                 Traceback (most recent call last)",
      "\u001b[0;32m<ipython-input-11-e0bbfa4c805e>\u001b[0m in \u001b[0;36m<module>\u001b[0;34m\u001b[0m\n\u001b[1;32m      4\u001b[0m \u001b[0;34m\u001b[0m\u001b[0m\n\u001b[1;32m      5\u001b[0m \u001b[0mp_func\u001b[0m\u001b[0;34m(\u001b[0m\u001b[0;34m)\u001b[0m\u001b[0;34m\u001b[0m\u001b[0;34m\u001b[0m\u001b[0m\n\u001b[0;32m----> 6\u001b[0;31m \u001b[0mprint\u001b[0m\u001b[0;34m(\u001b[0m\u001b[0mp\u001b[0m\u001b[0;34m)\u001b[0m\u001b[0;34m\u001b[0m\u001b[0;34m\u001b[0m\u001b[0m\n\u001b[0m",
      "\u001b[0;31mNameError\u001b[0m: name 'p' is not defined"
     ]
    }
   ],
   "source": [
    "#Poor function handling:\n",
    "def p_func():\n",
    "    p=1\n",
    "    \n",
    "p_func()\n",
    "print(p)"
   ]
  },
  {
   "cell_type": "markdown",
   "metadata": {},
   "source": [
    "### Exercise 2:\n",
    "Complete the following tasks:\n",
    "1. Write a function that takes a variable of type string as an argument and prints a greeting with the given name.\n",
    "2. Write a function that takes in a number argument and returns the sum of its sine and its cosine (Hint: use in-built functions)"
   ]
  },
  {
   "cell_type": "code",
   "execution_count": 12,
   "metadata": {},
   "outputs": [
    {
     "name": "stdout",
     "output_type": "stream",
     "text": [
      "Nice to meet you Johny !\n",
      "1.2508566957869456\n"
     ]
    }
   ],
   "source": [
    "#Task 1\n",
    "def greeter(name_str):\n",
    "    print(\"Nice to meet you\",name_str,\"!\")\n",
    "\n",
    "greeter(\"Johny\")\n",
    "\n",
    "#Task 2\n",
    "import math\n",
    "\n",
    "def sincos(x):\n",
    "    y = math.sin(x) + math.cos(x)\n",
    "    return y\n",
    "\n",
    "print(sincos(0.3))"
   ]
  },
  {
   "cell_type": "markdown",
   "metadata": {},
   "source": [
    "## Conditional Statements\n",
    "As we saw earlier, boolean value types can be either __True__ or __False__. These are the outputs of expressions using __comparison operators__. Given two variables, a and b, we define the comparison operators used in Python as:\n",
    "* __'a == b'__: returns True if a and b are equal, False otherwise\n",
    "* __'a > b'__: returns True if a is greater than b, False otherwise\n",
    "* __'a < b'__: returns True if a is less than b, False otherwise\n",
    "* __'a >= b'__: returns True if a is greater than or equal to b, False otherwise\n",
    "* __'a <= b'__: returns True if a is less than or equal to b, False otherwise\n",
    "* __'a != b'__: returns True if a and b are not equal, False otherwise"
   ]
  },
  {
   "cell_type": "markdown",
   "metadata": {},
   "source": [
    "We also have three __logical operators__, where given two boolean-value variables a and b:\n",
    "* __'a and b'__: returns True if both a and b are true, False otherwise\n",
    "* __'a or b'__: returns True if either a, b or both are true, False otherwise\n",
    "* __'not a'__: returns True if a is False, False otherwise"
   ]
  },
  {
   "cell_type": "code",
   "execution_count": 13,
   "metadata": {},
   "outputs": [
    {
     "name": "stdout",
     "output_type": "stream",
     "text": [
      "True\n",
      "False\n",
      "False\n",
      "True\n",
      "True\n",
      "False\n",
      "\n",
      "False\n",
      "True\n",
      "False\n"
     ]
    }
   ],
   "source": [
    "#Comparison operators:\n",
    "print(1==1)\n",
    "print(1>1)\n",
    "print(1<1)\n",
    "print(1>=1)\n",
    "print(1<=1)\n",
    "print(1!=1)\n",
    "\n",
    "print()\n",
    "\n",
    "#Logical operators:\n",
    "print(True and False)\n",
    "print(True or False)\n",
    "print(not True)"
   ]
  },
  {
   "cell_type": "markdown",
   "metadata": {},
   "source": [
    "__Conditional statements__ enable us to change the behaviour of our program by checking given conditions. The simplest form of conditional statement is the _if_ statement, which is followed by a __condition__, given by a boolean value, and a __':'__. We can have any number of statements inside an _if_ statement, __as long as they are indented relative to the _if_ statement.__\n",
    "\n",
    "A simple example of an _if_ statement is shown below:"
   ]
  },
  {
   "cell_type": "code",
   "execution_count": 14,
   "metadata": {},
   "outputs": [
    {
     "name": "stdout",
     "output_type": "stream",
     "text": [
      "2\n"
     ]
    }
   ],
   "source": [
    "#Conditional statement example: print a variable if it is even\n",
    "\n",
    "x = 2 \n",
    "if x%2==0: #if divisible by 2\n",
    "    print(x)\n",
    "\n",
    "y = 3\n",
    "if y%2==0:\n",
    "    print(y)\n"
   ]
  },
  {
   "cell_type": "markdown",
   "metadata": {},
   "source": [
    "Conditonal statements can be further elaborated by including ___elif___ and ___else___ statements, known as __branches__ of the original _if_ statement. These provide alternatives to the primary _if_ statement, only being checked if the previous condition was not met. _elif_ stands for _else if_ and checks if a condition is true when the previous condition was not met. There can any desired number of _elif_ statements following an _if_ statement. An _else_ statements acts as a final alternative, and is called upon if all other conditions are not met.\n",
    "\n",
    "Below are two examples of these conditional statements at work:"
   ]
  },
  {
   "cell_type": "code",
   "execution_count": 15,
   "metadata": {},
   "outputs": [
    {
     "name": "stdout",
     "output_type": "stream",
     "text": [
      "x is less than y\n"
     ]
    }
   ],
   "source": [
    "#Conditional statements:\n",
    "x = 1\n",
    "y = 2\n",
    "\n",
    "if x>y:\n",
    "    print(\"x is greater than y\")\n",
    "elif x<y:                        #only read if the first condition is not met\n",
    "    print(\"x is less than y\")\n",
    "else:\n",
    "    print(\"x is equal to y\") #only read if all the prior conditions were not met"
   ]
  },
  {
   "cell_type": "markdown",
   "metadata": {},
   "source": [
    "### Exercise 3\n",
    "Complete the following tasks:\n",
    "1. Write a function that takes in an integer(0-23) representing the hour of the day and returns a string saying whether it is morning(0-11), afternoon(12-16), evening(17-20) or night(21-23)."
   ]
  },
  {
   "cell_type": "code",
   "execution_count": 16,
   "metadata": {},
   "outputs": [
    {
     "name": "stdout",
     "output_type": "stream",
     "text": [
      "Morning\n",
      "Afternoon\n",
      "Evening\n",
      "Night\n"
     ]
    }
   ],
   "source": [
    "#Task 1\n",
    "def time(hour):\n",
    "    if hour>=0 and hour<=11:\n",
    "        return \"Morning\"\n",
    "    elif hour>=12 and hour<=16:\n",
    "        return \"Afternoon\"\n",
    "    elif hour>=17 and hour<=20:\n",
    "        return \"Evening\"\n",
    "    else:\n",
    "        return \"Night\"\n",
    "\n",
    "print(time(2))\n",
    "print(time(14))\n",
    "print(time(18))\n",
    "print(time(22))"
   ]
  },
  {
   "cell_type": "markdown",
   "metadata": {},
   "source": [
    "## Iteration\n",
    "__Iteration__ refers to the repetition of a given sequence of actions. Iteration is one of the most essential tools in the automation of simple tasks. Therefore, Python provides language features for iteration purposes. The first example is the ___while___ statement. This can be used for iteration by giving it a conditional statement, and keep repeating whatever is within the _while_ statement while the condition is met. Given the repetivive nature, this flow is known as a __loop__.\n",
    "\n",
    "An example of this type of statement and capabilities is the countdown function given below:"
   ]
  },
  {
   "cell_type": "code",
   "execution_count": 17,
   "metadata": {},
   "outputs": [
    {
     "name": "stdout",
     "output_type": "stream",
     "text": [
      "10\n",
      "9\n",
      "8\n",
      "7\n",
      "6\n",
      "5\n",
      "4\n",
      "3\n",
      "2\n",
      "1\n"
     ]
    }
   ],
   "source": [
    "#Function that takes in a positive integer number and counts down from this number\n",
    "def countdown(n):\n",
    "    while n>0:\n",
    "        print(n) #every iteration, print the current value of n\n",
    "        n = n-1 #every iteration, decrease the variable n by 1\n",
    "\n",
    "countdown(10)"
   ]
  },
  {
   "cell_type": "markdown",
   "metadata": {},
   "source": [
    "As some of you may have noticed, if we did not add a step where we changed the value of n, the the iterative process would have never been terminated. This would create an __infinite loop__. Therefore, every iteration __we must modify one or more variables so that eventually the given condition becomes false__.\n",
    "\n",
    "Another feature that enables iteration is the ___for___ statement. It works in a similar manner to a _while_ statement, but instead of iterating while a given condition is still true, it iterates over a sequence of elements. One of the most common implementations of the _for_ statement is together with the __range()__ function, which generates an arithmetic sequence. It has three parameters: __(start, stop, step)__. __start__ is the number at which the sequence starts, __stop__ is the value at which the sequence ends, and __step__ is the common difference of the sequence. If the step argument is not specified, the step size is automatically 1, and if the start argument is not specific, the starting value is automatically 0. Every iteration, a variable we define will take the next value in the sequence.\n",
    "\n",
    "Note from the examples below that __the stop value in the range function is not included in the sequence the function outputs__.\n",
    "\n",
    "Two implementations are shown below:"
   ]
  },
  {
   "cell_type": "code",
   "execution_count": 18,
   "metadata": {},
   "outputs": [
    {
     "name": "stdout",
     "output_type": "stream",
     "text": [
      "5\n",
      "10\n",
      "15\n",
      "20\n",
      "\n",
      "10\n",
      "9\n",
      "8\n",
      "7\n",
      "6\n",
      "5\n",
      "4\n",
      "3\n",
      "2\n",
      "1\n"
     ]
    }
   ],
   "source": [
    "#Seeing different values of our iterator\n",
    "for i in range(5,25,5): # variable i will start at 5, go up by 5 and has a stop value of 25\n",
    "    print(i)\n",
    "    \n",
    "print()\n",
    "    \n",
    "#Countdown function\n",
    "def countdown(n):\n",
    "    for i in range(n,0,-1): #start at 1, increment by -1, stop at 0\n",
    "        print(i)\n",
    "countdown(10)"
   ]
  },
  {
   "cell_type": "markdown",
   "metadata": {},
   "source": [
    "### Exercise 4:\n",
    "Complete the following tasks:\n",
    "1. Create a function that takes in a parameter n and prints the first n elements of the Fibonnaci sequence. (The elements of the Fibonacci sequence are the sum of the two previous terms, with the first and second term being 0 and 1 respectively)."
   ]
  },
  {
   "cell_type": "code",
   "execution_count": 19,
   "metadata": {},
   "outputs": [
    {
     "name": "stdout",
     "output_type": "stream",
     "text": [
      "0\n",
      "1\n",
      "1\n",
      "2\n",
      "3\n",
      "5\n",
      "8\n",
      "13\n",
      "21\n",
      "34\n"
     ]
    }
   ],
   "source": [
    "#Task 1\n",
    "def fib(n):\n",
    "    a = 0 #two elements before the current\n",
    "    b = 1 #one element before the current element\n",
    "    for i in range(n):\n",
    "        if i==0:\n",
    "            print(a)\n",
    "        elif i==1:\n",
    "            print(b)\n",
    "        else:\n",
    "            new_term = a+b #set new term value\n",
    "            print(new_term)\n",
    "            #moving a and b up along the sequence\n",
    "            a = b\n",
    "            b = new_term\n",
    "\n",
    "fib(10)"
   ]
  },
  {
   "cell_type": "markdown",
   "metadata": {},
   "source": [
    "## Strings\n",
    "As you can imagine, strings are quite different from _int_ and _float_ type values, as they are (for the most part), composed of multiple characters, meaning they are __compound data types__. If we would like, we can access individual characters of a string, with the __bracket operator [ ]__, which takes the input as the character location along the string starting from 0. The expression in these brackets is called an __index__. For example:"
   ]
  },
  {
   "cell_type": "code",
   "execution_count": 20,
   "metadata": {},
   "outputs": [
    {
     "name": "stdout",
     "output_type": "stream",
     "text": [
      "a e\n"
     ]
    }
   ],
   "source": [
    "fruit = \"apple\"\n",
    "first_letter = fruit[0]\n",
    "last_letter = fruit[4]\n",
    "print(first_letter,last_letter)"
   ]
  },
  {
   "cell_type": "markdown",
   "metadata": {},
   "source": [
    "A useful function when dealing with strings is the __len__() function, which returns the number of characters in a string:"
   ]
  },
  {
   "cell_type": "code",
   "execution_count": 21,
   "metadata": {},
   "outputs": [
    {
     "name": "stdout",
     "output_type": "stream",
     "text": [
      "5\n"
     ]
    }
   ],
   "source": [
    "length = len(\"apple\")\n",
    "print(length)"
   ]
  },
  {
   "cell_type": "markdown",
   "metadata": {},
   "source": [
    "Another useful operation that can be done is __traversing__ a string, meaning we loop over a string for each character. While this can be done with both _while_ and _for_ statements by indexing each element of the string, __it is more 'Pythonic' to directly traverse a string with a _for_ statement__ as shown below:"
   ]
  },
  {
   "cell_type": "code",
   "execution_count": 22,
   "metadata": {},
   "outputs": [
    {
     "name": "stdout",
     "output_type": "stream",
     "text": [
      "a\n",
      "p\n",
      "p\n",
      "l\n",
      "e\n"
     ]
    }
   ],
   "source": [
    "fruit = \"apple\"\n",
    "for char in fruit: #Statement means: for each character(sequentially) of the string stored in the variable 'fruit'\n",
    "    print(char)"
   ]
  },
  {
   "cell_type": "markdown",
   "metadata": {},
   "source": [
    "We can also extract a __slice__ of a given string in one line by applying the bracket operator in the form __[ start:stop ]__, returning all a slice of the string starting at the index __'start'__ and ending one index before __'stop'__. If no stop value is not specified after __':'__, the slice includes characters from the start value to the end of the string.\n",
    "\n",
    "As with the _range( )_ function, the stop value is not included in the slicing. Slicing examples are shown below."
   ]
  },
  {
   "cell_type": "code",
   "execution_count": 23,
   "metadata": {},
   "outputs": [
    {
     "name": "stdout",
     "output_type": "stream",
     "text": [
      "apple\n",
      "banana\n",
      "grape\n"
     ]
    }
   ],
   "source": [
    "fruits = \"apple, banana and grape\"\n",
    "print(fruits[0:5])\n",
    "print(fruits[7:13])\n",
    "print(fruits[18:])"
   ]
  },
  {
   "cell_type": "markdown",
   "metadata": {},
   "source": [
    "Strings are __immutable__, meaning that individual characters cannot be modified. This functionality can only be achieved by creating a modified copy of the original string."
   ]
  },
  {
   "cell_type": "code",
   "execution_count": 24,
   "metadata": {},
   "outputs": [
    {
     "name": "stdout",
     "output_type": "stream",
     "text": [
      "panana\n"
     ]
    }
   ],
   "source": [
    "fruit = \"banana\"\n",
    "#This is illegal and would throw an error\n",
    "# fruit[0] = \"p\"\n",
    "\n",
    "#This is one way in which you could create the modified string\n",
    "fruit = \"p\" + fruit[1:]\n",
    "print(fruit)"
   ]
  },
  {
   "cell_type": "markdown",
   "metadata": {},
   "source": [
    "The string type has many __in-built methods__ (for now just consider a method to be a type of function) that facilitate string handling. A few of these are shown below, and others will be shown later once we dive into the realm of Python __lists( )__."
   ]
  },
  {
   "cell_type": "code",
   "execution_count": 25,
   "metadata": {},
   "outputs": [
    {
     "name": "stdout",
     "output_type": "stream",
     "text": [
      "1 2\n",
      "\n",
      "banana BANANA\n",
      "\n",
      "Panana\n"
     ]
    }
   ],
   "source": [
    "banana = \"Banana\"\n",
    "# .find() returns the index of where a character or substring was first found in another string\n",
    "print(banana.find(\"a\"), banana.find(\"nana\")) \n",
    "print()\n",
    "\n",
    "# .lower() and .upper() convert all characters to lowercase and uppercase respectively\n",
    "print(banana.lower(), banana.upper())\n",
    "print()\n",
    "\n",
    "#.replace() replaces a given substring by another substring\n",
    "print(banana.replace('B','P'))\n"
   ]
  },
  {
   "cell_type": "markdown",
   "metadata": {},
   "source": [
    "## Lists\n",
    "A __list__ is an ordered set of values, where each value is identifiable by an index. Lists are like strings, except that its elements can have any type, and that it is __mutable__, meaning we can directly modify individual elements. Lists and strings (amongst other things) that behave like order sets are known as __sequences__.\n",
    "\n",
    "Lists are created by enclosing its elements with __'[' and ']'__, and separating the elements by commas. You can also enclose no elements to create an __empty list__. When lists have elements that are also lists, these are known as __nested__. To access and/or modify the value of an element, we can use the same __'[ ]'__ operator as for strings. __Negative indices__ correspond to counting backwards from the end of the list.\n",
    "\n",
    "Some examples of list manipulation is shown below:"
   ]
  },
  {
   "cell_type": "code",
   "execution_count": 26,
   "metadata": {},
   "outputs": [
    {
     "name": "stdout",
     "output_type": "stream",
     "text": [
      "[1, 'love', 'Python'] ['super', 'trippy'] Python\n"
     ]
    }
   ],
   "source": [
    "#creating lists\n",
    "a = [\"I\",\"love\",\"Python\"]\n",
    "b = [\"This\",\"is\",[\"super\",\"trippy\"]] #the element at index 2 is a nested list\n",
    "c = [] #this is an empty list\n",
    "\n",
    "#modifying a list\n",
    "a[0] = 1\n",
    "\n",
    "print(a, b[2], a[-1]) #index of -1 corresponds to last element of the list (first from the end)"
   ]
  },
  {
   "cell_type": "markdown",
   "metadata": {},
   "source": [
    "As seen before with strings, lists also have the same properties of __index slicing__, using _for_ statements for directly __traversing__ through its elements and the _len( )_ function for computing the number of elements in the list.\n",
    "\n",
    "On top of that, lists also have the ___in_ boolean operator__, used to check if a value is a member of a list, and the __del__ operator, which can be used for deleting an element or slice from a list given their respective indices.\n",
    "\n",
    "The implementation of these features are shown below:"
   ]
  },
  {
   "cell_type": "code",
   "execution_count": 27,
   "metadata": {},
   "outputs": [
    {
     "name": "stdout",
     "output_type": "stream",
     "text": [
      "['banana']\n",
      "banana\n",
      "['apple', 'grape']\n"
     ]
    }
   ],
   "source": [
    "fruits = [\"banana\",\"apple\",\"grape\"]\n",
    "\n",
    "#List slicing\n",
    "print(fruits[0:1])\n",
    "\n",
    "#traversing list\n",
    "for element in fruits:\n",
    "    if \"b\" in element: #in operator\n",
    "        print(element)\n",
    "\n",
    "#del operator\n",
    "del fruits[0]\n",
    "print(fruits)\n"
   ]
  },
  {
   "cell_type": "markdown",
   "metadata": {},
   "source": [
    "Something important to keep in mind when dealing with lists is __aliasing__. Let's say we assign the same value to two different variables. We know that both variables below refer to a string with the lettters \"apple\", but to check whether they refer to the same string, we can use the __id( )__ function. These 'things' that variables can refer to are known as __objects__."
   ]
  },
  {
   "cell_type": "code",
   "execution_count": 28,
   "metadata": {},
   "outputs": [
    {
     "name": "stdout",
     "output_type": "stream",
     "text": [
      "4578713008 4578713008\n",
      "\n",
      "4578722432 4578722432\n"
     ]
    }
   ],
   "source": [
    "a = \"apple\"\n",
    "b = \"apple\"\n",
    "print(id(a),id(b))\n",
    "\n",
    "print()\n",
    "\n",
    "c = [\"a\",\"b\",\"c\"]\n",
    "d = c\n",
    "print(id(c),id(d))"
   ]
  },
  {
   "cell_type": "markdown",
   "metadata": {},
   "source": [
    "In this case, we see that 'a' and 'b' refer to the same object, as they share the same id. There is not a problem in this case since strings are immutable (cannot be changed). However, the identical lists created separately refer to separate objects! So now, if we assign one list to another, list, both refer to the same object. This is known as __aliasing__, and __editing one of the variables will affect the value of the other__. \n",
    "\n",
    "While at times it can be helpful, it can also cause unexpected behaviour, so make sure to stay alert! An example of this is shown below."
   ]
  },
  {
   "cell_type": "code",
   "execution_count": 29,
   "metadata": {},
   "outputs": [
    {
     "name": "stdout",
     "output_type": "stream",
     "text": [
      "['d', 'b', 'c']\n"
     ]
    }
   ],
   "source": [
    "a = [\"a\",\"b\",\"c\"]\n",
    "b = a\n",
    "a[0] = \"d\"\n",
    "print(b) #b was now modified since a was modified!"
   ]
  },
  {
   "cell_type": "markdown",
   "metadata": {},
   "source": [
    "To assign the same value to another variable without aliasing, we can using slicing in a process called __cloning__. Since taking a slice of a list automatically creates a new list, by taking a 'slice' of the entire list, we have obtained a copy of the list!"
   ]
  },
  {
   "cell_type": "code",
   "execution_count": 30,
   "metadata": {},
   "outputs": [
    {
     "name": "stdout",
     "output_type": "stream",
     "text": [
      "['a', 'b', 'c']\n"
     ]
    }
   ],
   "source": [
    "a = [\"a\",\"b\",\"c\"]\n",
    "b = a[:]\n",
    "a[0] = \"d\"\n",
    "print(b)"
   ]
  },
  {
   "cell_type": "markdown",
   "metadata": {},
   "source": [
    "Some of the most important string-handling functionalities in Python involve __lists of strings__. The __.split( )__ function can split strings into substrings given a given __delimiter__, which is a sequence of one or more characters used to specify a boundary between separate regions of a string. Likewise, by specifying a delimiter, the __.join( )__ function can join a list of strings, separating individual elements with the given delimiter. Another important function can be the __list( )__ function, which can convert a string into a list of characters. Below are some examples of their functionality."
   ]
  },
  {
   "cell_type": "code",
   "execution_count": 31,
   "metadata": {},
   "outputs": [
    {
     "name": "stdout",
     "output_type": "stream",
     "text": [
      "['Take', 'on', 'me', '!', 'Take', 'me', 'on', '!']\n",
      "['Take ', ' me ! Take me ', ' !']\n",
      "\n",
      "Take on me ! Take me on !\n",
      "Take on me ! Take me on !\n",
      "\n",
      "['T', 'a', 'k', 'e', ' ', 'o', 'n', ' ', 'm', 'e', ' ', '!', ' ', 'T', 'a', 'k', 'e', ' ', 'm', 'e', ' ', 'o', 'n', ' ', '!']\n"
     ]
    }
   ],
   "source": [
    "#Splitting strings into strings\n",
    "string = \"Take on me ! Take me on !\"\n",
    "word_list = string.split() #delimiter is automatically set to a \" \"\n",
    "print(word_list)\n",
    "\n",
    "word_list2 = string.split(\"on\")\n",
    "print(word_list2)\n",
    "\n",
    "print()\n",
    "\n",
    "#Joining string lists into one string with a delimiter\n",
    "word_list = \" \".join(word_list)\n",
    "word_list2 = \"on\".join(word_list2)\n",
    "\n",
    "print(word_list)\n",
    "print(word_list2)\n",
    "\n",
    "print()\n",
    "\n",
    "#Making a list of individual characters from a tring\n",
    "print(list(word_list))"
   ]
  },
  {
   "cell_type": "markdown",
   "metadata": {},
   "source": [
    "?Tuples? How much emphasis?"
   ]
  },
  {
   "cell_type": "markdown",
   "metadata": {},
   "source": [
    "### Exercise 5\n",
    "Complete the following tasks:\n",
    "1. Create a function that counts how many times a word of your choice appears in a string containing a sentence or pragraph (with only full stops and commas allowed besides characters)."
   ]
  },
  {
   "cell_type": "code",
   "execution_count": 32,
   "metadata": {},
   "outputs": [
    {
     "name": "stdout",
     "output_type": "stream",
     "text": [
      "3\n"
     ]
    }
   ],
   "source": [
    "#Task 1\n",
    "def word_count(text,chosen_word):\n",
    "    text = text.lower()#set all characters to lower case for comparison\n",
    "    text = text.replace(',','') #deletes commas\n",
    "    text = text.replace('.','') #deletes full stops\n",
    "    text_split = text.split() #split text into different constituent words\n",
    "    \n",
    "    chosen_word = chosen_word.lower()\n",
    "    counter = 0 #increase counter every time a word was found\n",
    "    for word in text_split: #for every word in our text\n",
    "        if word==chosen_word:\n",
    "            counter+=1\n",
    "    return counter\n",
    "\n",
    "simple_text = \"I feel like, after all this practice, Python is not that hard. I feel like I can take it to the next level!\"\n",
    "print(word_count(simple_text,\"I\"))"
   ]
  },
  {
   "cell_type": "markdown",
   "metadata": {},
   "source": [
    "## Dictionaries\n",
    "__Dictionaries__ are similar to other compound types, except they allow the use of any immutable type as an index. For instance, we can create a price list as we see below. One way to create an __empty dictionary__ is with __{}__, and we simply add more elements to a dictionary in the following format:"
   ]
  },
  {
   "cell_type": "code",
   "execution_count": 33,
   "metadata": {},
   "outputs": [
    {
     "name": "stdout",
     "output_type": "stream",
     "text": [
      "{'banana': '£1.00', 'apple': '£2.00'}\n",
      "£2.00\n"
     ]
    }
   ],
   "source": [
    "price_list = {}\n",
    "price_list[\"banana\"] = \"£1.00\"\n",
    "price_list[\"apple\"] = \"£2.00\"\n",
    "\n",
    "print(price_list)\n",
    "print(price_list[\"apple\"])"
   ]
  },
  {
   "cell_type": "markdown",
   "metadata": {},
   "source": [
    "As we have seen above, we can keep adding elements to our dictionary. For this example, we used the fruit names as indices to access the values of their individual prices. In dictionaries, the indices are called __keys__ and the values __values__. Hence, the elements of a dictionary are known as __key-value pairs__. Since the location along the sequence is no longer valid since we set the individual indices, __order is no longer relevant when dealing with dictionaries__.\n",
    "\n",
    "Just as with lists, we can delete a key-value pair from a dictionary given its index witht the __del [ ]__ operator. We can also use the __len( )__ operator to return how many key-value pairs a dictionary holds. "
   ]
  },
  {
   "cell_type": "code",
   "execution_count": 34,
   "metadata": {},
   "outputs": [
    {
     "name": "stdout",
     "output_type": "stream",
     "text": [
      "{'apple': '£2.00'}\n"
     ]
    }
   ],
   "source": [
    "price_list = {\"banana\":\"£1.00\",\"apple\":\"£2.00\"}\n",
    "del price_list[\"banana\"]\n",
    "print(price_list)"
   ]
  },
  {
   "cell_type": "markdown",
   "metadata": {},
   "source": [
    "There are a variety of useful __dictionary methods__, such as the __.keys()__, which returns a list of the keys of the dictionary, __.values()__, which returns a list of the values of the dictionary, and the __.items()__, which returns a list of tuples, each tuple containing its key and its value. Their functionality is demonstrated below:"
   ]
  },
  {
   "cell_type": "code",
   "execution_count": 35,
   "metadata": {},
   "outputs": [
    {
     "name": "stdout",
     "output_type": "stream",
     "text": [
      "dict_keys(['banana', 'apple'])\n",
      "dict_values(['£1.00', '£2.00'])\n",
      "dict_items([('banana', '£1.00'), ('apple', '£2.00')])\n"
     ]
    }
   ],
   "source": [
    "price_list = {\"banana\":\"£1.00\",\"apple\":\"£2.00\"}\n",
    "print(price_list.keys())\n",
    "print(price_list.values())\n",
    "print(price_list.items())"
   ]
  },
  {
   "cell_type": "markdown",
   "metadata": {},
   "source": [
    "### Exercise 6 \n",
    "Complete the following tasks:\n",
    "1. TBD"
   ]
  },
  {
   "cell_type": "markdown",
   "metadata": {},
   "source": [
    "## Classes\n",
    "A __class__ is a user-defined compound-type value. After a __class definition__, members of the class we created are known as __instances__ of the type or __objects__.  When creating a class, it must have an __initialisation method__ inside it, which is a function that creates new objects. This initialisation method must be in the format shown in the example below, but can take any number of input arguments. Creating a new instance of a class is called __instantiation__ and is done via a __constructor__, whose arguments are passed into the initialisation method. We will see how to define a class with the example below."
   ]
  },
  {
   "cell_type": "code",
   "execution_count": 36,
   "metadata": {},
   "outputs": [
    {
     "name": "stdout",
     "output_type": "stream",
     "text": [
      "2 3\n",
      "( 3 , 4 )\n",
      "5.0\n"
     ]
    }
   ],
   "source": [
    "#Defining a class point, which acts as a point in 2D space and stores an x and y coordinate\n",
    "class Point:\n",
    "    #This is a constructor. It MUST be in this format!\n",
    "    def __init__(self,x,y):\n",
    "        self.x = x\n",
    "        self.y = y\n",
    "    \n",
    "    #This is a method\n",
    "    def update(self,x,y):\n",
    "        self.x = x\n",
    "        self.y = y\n",
    "    \n",
    "    def distance(self):\n",
    "        distance = (self.x**2 + self.y**2)**0.5\n",
    "        return distance\n",
    "    \n",
    "    def point_print(self):\n",
    "        print('(',self.x,',',self.y,')')\n",
    "        \n",
    "#Creating an instance of type Point\n",
    "p1 = Point(2,3)\n",
    "print(p1.x,p1.y)\n",
    "\n",
    "#Applying methods to our object\n",
    "p1.update(3,4)\n",
    "p1.point_print()\n",
    "print(p1.distance()) #Use distance method to compute the distance from the point to the origin\n"
   ]
  },
  {
   "cell_type": "markdown",
   "metadata": {},
   "source": [
    "In our constructor, we took in a 'x' and a 'y' values as arguments, and these were stored within this instance of the class Point. When values are stored within the instance of a class, these are called __attributes__, and they can be accessed as follows (as shown above with the coordinates of Point):\n",
    "\n",
    "_\"instance_name\".\"attribute_name\"_\n",
    "\n",
    "The function _update( )_ is what is known as a __method__. Methods are similar to functions, but are defined inside a class definition to show its explicit relationship to that class, and are called as follows (as shown with the update method above):\n",
    "\n",
    "_\"instance.name\".\"method_name\"(arguments)_\n",
    "\n",
    "Some of you may have noticed another difference, which is that __the methods inside a class definition must take in the term _self_ as a mandatory first argument__. This argument enables you to generalize sequences of actions to be carried out with given attributes and methods of any instance of that class. For example, in class Point, when we create the _update( )_ method, we are saying that \"whatever the instance I am working with, change its x attribute and its y attribute to my input arguments\".\n",
    "\n",
    "As shown below, instances of a class can be taken as arguments for a function (note that there is no name conflict between common variables and attributes of the same name):"
   ]
  },
  {
   "cell_type": "code",
   "execution_count": 37,
   "metadata": {},
   "outputs": [
    {
     "name": "stdout",
     "output_type": "stream",
     "text": [
      "( 0 , 4 )\n"
     ]
    }
   ],
   "source": [
    "#Function that adds the attributes of instances from class Point, returning the resulting instance of class Point\n",
    "def point_add(p1,p2):\n",
    "    x = p1.x + p2.x\n",
    "    y = p1.y + p2.y\n",
    "    p3 = Point(x,y)\n",
    "    return p3\n",
    "\n",
    "p1 = Point(1,0)\n",
    "p2 = Point(-1,4)\n",
    "p3 = point_add(p1,p2)\n",
    "p3.point_print()\n",
    "    "
   ]
  },
  {
   "cell_type": "markdown",
   "metadata": {},
   "source": [
    "A crucial feature of classes is known as __inheritance__, which allows you to define a new class that is a modified version of a pre-existing class. The existing class is called the __parent class__ or __superclass__, whereas the inherited class is called the __child class__ or __subclass__. An instance of a child class will have access to all the methods and attributes of the parent class. If we want, we can also __override__ methods from the parent class, only keeping the ones that are relevant to the new child class. \n",
    "\n",
    "Let us create a class PointyPoint that inherits from class Point. It will do all the same things as class Point, except that it will also print a smiley face alongside the _.point_print( )_ method."
   ]
  },
  {
   "cell_type": "code",
   "execution_count": 38,
   "metadata": {},
   "outputs": [
    {
     "name": "stdout",
     "output_type": "stream",
     "text": [
      "This is a special point!\n",
      "3.605551275463989\n",
      "( 2 , 3 )\n",
      "= )\n"
     ]
    }
   ],
   "source": [
    "#Class that inherits from class Point\n",
    "class PointyPoint(Point):\n",
    "    def __init__(self,x,y):\n",
    "        super().__init__(x,y) #super() constructor\n",
    "        print(\"This is a special point!\")\n",
    "        \n",
    "    def point_print(self):\n",
    "        print('(',self.x,',',self.y,')')\n",
    "        print(\"= )\")\n",
    "        \n",
    "p1 = PointyPoint(1,0)\n",
    "p1.update(2,3)\n",
    "print(p1.distance())\n",
    "p1.point_print() "
   ]
  },
  {
   "cell_type": "markdown",
   "metadata": {},
   "source": [
    "From this subclass example, there are a few things worth mentioning. Firstly, to inherit from a parent class, we use the following syntax in the class definition:\n",
    "\n",
    "_class \"subclass_name\"(\"superclass_name\"):_\n",
    "\n",
    "By using **super().\\_\\_init\\_\\_( )**, inside the initialisation method of the subclass, we are essentially carrying out the same operations as are done in the initialisation method of the superclass. In the case of PointyPoint, the use of this command stores the attributes 'x' and 'y'. We also have an extra print statement to show that you can have additional commands in the initialisation method of the subclas.\n"
   ]
  },
  {
   "cell_type": "markdown",
   "metadata": {},
   "source": [
    "### Exercise 6\n",
    "Complete the following tasks:\n",
    "1. Create a parent class Rectangle, with attributes of length and width, and methods that compute the its perimeter and area, and a method that prints what shape it is.\n",
    "2. Create a child class Square, which has only a length, and the same methods as the rectangle class (note that now it is a different shape!)"
   ]
  },
  {
   "cell_type": "code",
   "execution_count": 39,
   "metadata": {},
   "outputs": [
    {
     "name": "stdout",
     "output_type": "stream",
     "text": [
      "This is a rectangle!\n",
      "12 14\n",
      "This is a square!\n",
      "9 12\n"
     ]
    }
   ],
   "source": [
    "#Task 1: Parent class\n",
    "class Rectangle:\n",
    "    def __init__(self,length,width):\n",
    "        self.length = length\n",
    "        self.width = width\n",
    "    def area(self):\n",
    "        return self.length*self.width\n",
    "    def perimeter(self):\n",
    "        return 2*(self.length+self.width)\n",
    "    def shape(self):\n",
    "        print(\"This is a rectangle!\")\n",
    "        \n",
    "#Task 2: Child class\n",
    "class Square(Rectangle):\n",
    "    def __init__(self,length):\n",
    "        super().__init__(length,length) #width and height are the same\n",
    "    def shape(self):\n",
    "        print(\"This is a square!\")\n",
    "        \n",
    "shape1 = Rectangle(3,4)\n",
    "shape1.shape()\n",
    "print(shape1.area(),shape1.perimeter())\n",
    "\n",
    "shape2 = Square(3)\n",
    "shape2.shape()\n",
    "print(shape2.area(),shape2.perimeter())"
   ]
  }
 ],
 "metadata": {
  "kernelspec": {
   "display_name": "Python 3",
   "language": "python",
   "name": "python3"
  },
  "language_info": {
   "codemirror_mode": {
    "name": "ipython",
    "version": 3
   },
   "file_extension": ".py",
   "mimetype": "text/x-python",
   "name": "python",
   "nbconvert_exporter": "python",
   "pygments_lexer": "ipython3",
   "version": "3.7.7"
  }
 },
 "nbformat": 4,
 "nbformat_minor": 4
}
