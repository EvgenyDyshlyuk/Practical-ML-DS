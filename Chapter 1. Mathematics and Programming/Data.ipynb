{
 "cells": [
  {
   "cell_type": "markdown",
   "metadata": {},
   "source": [
    "# Data\n",
    "\n",
    "**Contents**:\n",
    "- Components of a model\n",
    "- What is data?\n",
    "- Reading and interpreting data\n",
    " - Shapes and Dimensions\n",
    "- Visualising data"
   ]
  },
  {
   "cell_type": "markdown",
   "metadata": {},
   "source": [
    "# Components of a model\n",
    "\n",
    "**What is a model?**\n",
    "blah blah blah\n",
    "\n",
    "There are four components to training a model: Data, Model, Criterion, Optimiser.\n",
    "\n",
    "blah blah blah"
   ]
  },
  {
   "cell_type": "markdown",
   "metadata": {},
   "source": [
    "# What is data?\n",
    "\n",
    "(copy from strong-ml-foundations)"
   ]
  },
  {
   "cell_type": "markdown",
   "metadata": {},
   "source": []
  },
  {
   "cell_type": "markdown",
   "metadata": {},
   "source": [
    "# Reading and interpreting data"
   ]
  },
  {
   "cell_type": "markdown",
   "metadata": {},
   "source": []
  },
  {
   "cell_type": "code",
   "execution_count": 1,
   "metadata": {},
   "outputs": [],
   "source": [
    "# Load in 1-d dataset (age vs salary)\n",
    "# Visualise it\n",
    "# Talk about what is going on"
   ]
  },
  {
   "cell_type": "markdown",
   "metadata": {},
   "source": [
    "## Shapes and Dimensions\n",
    "\n",
    "More generally speaking... one data point will be composed of many features/dimensions. Strictly speaking we don't need to have a one dimensional output, and we will look at the case where our label is multi-dimensional in other lectures.\n",
    "\n",
    "What is the notation for data (i.e. a shape). Get them comfortable reading this?"
   ]
  },
  {
   "cell_type": "markdown",
   "metadata": {},
   "source": []
  },
  {
   "cell_type": "markdown",
   "metadata": {},
   "source": [
    "# Visualising data\n",
    "\n",
    "We only visualised a 1-d dataset earlier on. What about 2-d? Ok... can we do 3-d? Or higher? Not easily... But the overall concept of the model is the same - let's try and fit a line "
   ]
  },
  {
   "cell_type": "markdown",
   "metadata": {},
   "source": []
  }
 ],
 "metadata": {
  "kernelspec": {
   "display_name": "Python 3",
   "language": "python",
   "name": "python3"
  },
  "language_info": {
   "codemirror_mode": {
    "name": "ipython",
    "version": 3
   },
   "file_extension": ".py",
   "mimetype": "text/x-python",
   "name": "python",
   "nbconvert_exporter": "python",
   "pygments_lexer": "ipython3",
   "version": "3.7.6"
  }
 },
 "nbformat": 4,
 "nbformat_minor": 4
}
