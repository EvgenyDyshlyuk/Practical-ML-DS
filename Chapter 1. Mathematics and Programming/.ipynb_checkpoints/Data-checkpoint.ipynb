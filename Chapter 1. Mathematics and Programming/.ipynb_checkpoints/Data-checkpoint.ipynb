{
 "cells": [
  {
   "cell_type": "markdown",
   "metadata": {},
   "source": [
    "# Data\n",
    "\n",
    "**Contents**:\n",
    "- Machine Learning\n",
    " - What is machine learning and why do we care?\n",
    " - Types of Machine Learning\n",
    " - Components of a model\n",
    "- What is data?\n",
    "- Reading and interpreting data\n",
    " - Shapes and Dimensions\n",
    "- Visualising data"
   ]
  },
  {
   "cell_type": "markdown",
   "metadata": {},
   "source": [
    "# Machine Learning\n",
    "\n",
    "## What is machine learning and why do we care?\n",
    "Through experience, humans learn to act intelligently - to acquire and apply knowledge. We are all able to learn to accomplish tasks for ourselves, some tasks with explicit guidance, and others without. For a human, a simple task is to be able to distinguish images of cats and dogs. A more complicated task would be to win a chess game. Both of these tasks require us to act intelligently and make decisions. Machine Learning is the field which focuses on getting machines to accomplish goals or tasks for themselves.\n",
    "\n",
    "In general, the problem of accomplishing goals can be framed as trying to produce some intended output given an input. As such, machine learning is all about automatically learning to represent the relationships between inputs and outputs. These inputs and outputs can take many forms as illustrated below.\n",
    "\n",
    "![](images/inp-out.jpg)\n",
    "\n",
    "We'd like to be able to build algorithms that can learn to use inputs to predict useful outputs, and solve problems such as those shown above.\n",
    "\n",
    "**Building machines which can model the relationships between inputs and outputs is the goal of machine learning.**\n",
    "\n",
    "## Types of Machine Learning\n",
    "## Components of a model\n"
   ]
  },
  {
   "cell_type": "markdown",
   "metadata": {},
   "source": [
    "# What is data?\n",
    "\n",
    "(copy from strong-ml-foundations)"
   ]
  },
  {
   "cell_type": "markdown",
   "metadata": {},
   "source": []
  },
  {
   "cell_type": "markdown",
   "metadata": {},
   "source": [
    "# Reading and interpreting data"
   ]
  },
  {
   "cell_type": "markdown",
   "metadata": {},
   "source": []
  },
  {
   "cell_type": "code",
   "execution_count": 1,
   "metadata": {},
   "outputs": [],
   "source": [
    "# Load in 1-d dataset (age vs salary)\n",
    "# Visualise it\n",
    "# Talk about what is going on"
   ]
  },
  {
   "cell_type": "markdown",
   "metadata": {},
   "source": [
    "## Shapes and Dimensions\n",
    "\n",
    "More generally speaking... one data point will be composed of many features/dimensions. Strictly speaking we don't need to have a one dimensional output, and we will look at the case where our label is multi-dimensional in other lectures.\n",
    "\n",
    "What is the notation for data (i.e. a shape). Get them comfortable reading this?"
   ]
  },
  {
   "cell_type": "markdown",
   "metadata": {},
   "source": []
  },
  {
   "cell_type": "markdown",
   "metadata": {},
   "source": [
    "# Visualising data\n",
    "\n",
    "We only visualised a 1-d dataset earlier on. What about 2-d? Ok... can we do 3-d? Or higher? Not easily... But the overall concept of the model is the same - let's try and fit a line "
   ]
  },
  {
   "cell_type": "markdown",
   "metadata": {},
   "source": []
  }
 ],
 "metadata": {
  "kernelspec": {
   "display_name": "Python 3",
   "language": "python",
   "name": "python3"
  },
  "language_info": {
   "codemirror_mode": {
    "name": "ipython",
    "version": 3
   },
   "file_extension": ".py",
   "mimetype": "text/x-python",
   "name": "python",
   "nbconvert_exporter": "python",
   "pygments_lexer": "ipython3",
   "version": "3.7.6"
  }
 },
 "nbformat": 4,
 "nbformat_minor": 4
}
